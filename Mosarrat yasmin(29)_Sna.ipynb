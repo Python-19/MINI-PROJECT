{
  "nbformat": 4,
  "nbformat_minor": 0,
  "metadata": {
    "colab": {
      "name": "Sna mini project.ipynb",
      "provenance": []
    },
    "kernelspec": {
      "name": "python3",
      "display_name": "Python 3"
    },
    "language_info": {
      "name": "python"
    }
  },
  "cells": [
    {
      "cell_type": "code",
      "source": [
        "\n",
        "nltk.download('vader_lexicon')"
      ],
      "metadata": {
        "colab": {
          "base_uri": "https://localhost:8080/"
        },
        "id": "q2tUDRb-cG74",
        "outputId": "88a9091c-bf2c-45ae-b8e4-0c0c37af2a4a"
      },
      "execution_count": null,
      "outputs": [
        {
          "output_type": "stream",
          "name": "stdout",
          "text": [
            "[nltk_data] Downloading package vader_lexicon to /root/nltk_data...\n"
          ]
        },
        {
          "output_type": "execute_result",
          "data": {
            "text/plain": [
              "True"
            ]
          },
          "metadata": {},
          "execution_count": 15
        }
      ]
    },
    {
      "cell_type": "code",
      "source": [
        "nltk.download('twitter_samples')"
      ],
      "metadata": {
        "colab": {
          "base_uri": "https://localhost:8080/"
        },
        "id": "qrRCD7Sudupw",
        "outputId": "d37df93f-02d5-4b7e-bcc2-8e3b86b9bed5"
      },
      "execution_count": null,
      "outputs": [
        {
          "output_type": "stream",
          "name": "stdout",
          "text": [
            "[nltk_data] Downloading package twitter_samples to /root/nltk_data...\n",
            "[nltk_data]   Unzipping corpora/twitter_samples.zip.\n"
          ]
        },
        {
          "output_type": "execute_result",
          "data": {
            "text/plain": [
              "True"
            ]
          },
          "metadata": {},
          "execution_count": 18
        }
      ]
    },
    {
      "cell_type": "code",
      "source": [
        "\n",
        "!pip install colorama"
      ],
      "metadata": {
        "colab": {
          "base_uri": "https://localhost:8080/"
        },
        "id": "UQ9L3EnRbT07",
        "outputId": "ad4ff1a2-d3cc-481a-a9f9-4c4eb04134d3"
      },
      "execution_count": null,
      "outputs": [
        {
          "output_type": "stream",
          "name": "stdout",
          "text": [
            "Collecting colorama\n",
            "  Downloading colorama-0.4.4-py2.py3-none-any.whl (16 kB)\n",
            "Installing collected packages: colorama\n",
            "Successfully installed colorama-0.4.4\n"
          ]
        }
      ]
    },
    {
      "cell_type": "code",
      "execution_count": null,
      "metadata": {
        "id": "2xotCuWSa2-O"
      },
      "outputs": [],
      "source": [
        "import nltk\n",
        "from nltk.corpus import stopwords,twitter_samples\n",
        "from nltk.sentiment import SentimentIntensityAnalyzer\n",
        "from statistics import mean\n",
        "from random import shuffle\n",
        "from colorama import Fore"
      ]
    },
    {
      "cell_type": "code",
      "source": [
        "Sia=SentimentIntensityAnalyzer()\n",
        "Sia.polarity_scores(\"NLTK IS A GRAEAT PACKAGE TO PERFOM NLP\")\n"
      ],
      "metadata": {
        "colab": {
          "base_uri": "https://localhost:8080/"
        },
        "id": "f3Y-G0WHbkUA",
        "outputId": "06ee2b03-95aa-4b2a-f4ec-278cbce7544f"
      },
      "execution_count": null,
      "outputs": [
        {
          "output_type": "execute_result",
          "data": {
            "text/plain": [
              "{'compound': 0.0, 'neg': 0.0, 'neu': 1.0, 'pos': 0.0}"
            ]
          },
          "metadata": {},
          "execution_count": 16
        }
      ]
    },
    {
      "cell_type": "code",
      "source": [
        "green=Fore.GREEN\n",
        "red=Fore.RED\n",
        "def ispositive(tweet :str) ->bool:\n",
        "  return Sia.polarity_scores(tweet)[\"compound\"] >0\n",
        "tweets=[tweet for tweet in twitter_samples.strings()]\n",
        "shuffle(tweets)\n",
        "\n",
        "for tweet in tweets[ : 10]:\n",
        "  color =green\n",
        "  if not ispositive(tweet):\n",
        "    color =red\n",
        "  print(f\"{color}{tweet}\")\n",
        "\n"
      ],
      "metadata": {
        "colab": {
          "base_uri": "https://localhost:8080/"
        },
        "id": "G8SZ_J9rb4t9",
        "outputId": "4cd7f5d1-a56d-4dd4-cc0a-8c78d0e66abb"
      },
      "execution_count": null,
      "outputs": [
        {
          "output_type": "stream",
          "name": "stdout",
          "text": [
            "\u001b[32m@GHmltn @MarkReckons Nick Clegg did well last night. Which is more than can be said of his party as a whole over the past few days.\n",
            "\u001b[31mRT @davidmcnay: Why do you have a deal with the Nationalist SDLP in NI but won't deal with Nationalist SNP in Scotland? @Ed_Miliband #SDLP …\n",
            "\u001b[32m@Historywoman Amusing to think Scots Greens are aligned with Gas guzzling SNP. Go figure.\n",
            "\u001b[32m@Tanyastan4nicki girlll did u hear abt the possibly tsunami for us in West Indies?? Im in my island im afraid lol :((\n",
            "\u001b[31m@pickledog47 @FoxyLustyGrover Its Kate, tho!!  :(  #sniff\n",
            "\u001b[31mRT @Channel4News: .@Ed_Miliband: We won’t do any kind of deal with the #SNP #bbcqt http://t.co/KOSrEjfDR6 #c4news http://t.co/kWXyhHVRSq\n",
            "\u001b[32m@kdugdalemsp @Ed_Miliband  Miliband wants to throw the election and have a Tory government for the next 5 years. That is now patently clear.\n",
            "\u001b[31mRT @ryan_murton: #AskNigelFarage The reality is that everyone will look back in 2025 and say \"Farage was right all along\"\n",
            "\u001b[31mRT @bellacaledonia: The REAL problem is quite different. Imagine if Scotland elects 59 SNP MPs and gets a Tory govt. This is into new terri…\n",
            "\u001b[31m@lana___amiir @FATMA_TEARS @saad_my_life @FatimaZahra_SA @Saadlamjarred1 yeahhh :( .. It means have \"hacharatt \"\n"
          ]
        }
      ]
    }
  ]
}